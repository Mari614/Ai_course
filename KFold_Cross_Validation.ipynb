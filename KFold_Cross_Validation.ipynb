{
 "cells": [
  {
   "cell_type": "code",
   "execution_count": 22,
   "id": "5c817eec",
   "metadata": {
    "ExecuteTime": {
     "end_time": "2022-05-24T09:15:35.736506Z",
     "start_time": "2022-05-24T09:15:35.705667Z"
    }
   },
   "outputs": [],
   "source": [
    "import pandas as pd\n",
    "from sklearn.datasets import load_iris\n",
    "from sklearn.model_selection import cross_val_score\n",
    "from sklearn.linear_model import LogisticRegression\n",
    "from sklearn.svm import SVC\n",
    "from sklearn.ensemble import RandomForestClassifier\n",
    "from sklearn.tree import DecisionTreeClassifier\n",
    "import numpy as np\n",
    "iris = load_iris()"
   ]
  },
  {
   "cell_type": "code",
   "execution_count": 23,
   "id": "4c7720fd",
   "metadata": {
    "ExecuteTime": {
     "end_time": "2022-05-24T09:15:36.378536Z",
     "start_time": "2022-05-24T09:15:36.362656Z"
    }
   },
   "outputs": [],
   "source": [
    "df= pd.DataFrame(iris.data)"
   ]
  },
  {
   "cell_type": "code",
   "execution_count": 24,
   "id": "16f56ac9",
   "metadata": {
    "ExecuteTime": {
     "end_time": "2022-05-24T09:15:36.965629Z",
     "start_time": "2022-05-24T09:15:36.949623Z"
    }
   },
   "outputs": [],
   "source": [
    "df['target']= iris.target"
   ]
  },
  {
   "cell_type": "code",
   "execution_count": 25,
   "id": "e4e77d14",
   "metadata": {
    "ExecuteTime": {
     "end_time": "2022-05-24T09:15:37.549124Z",
     "start_time": "2022-05-24T09:15:37.538126Z"
    }
   },
   "outputs": [],
   "source": [
    "X = df.drop('target',axis='columns')\n",
    "y = df.target"
   ]
  },
  {
   "cell_type": "code",
   "execution_count": 30,
   "id": "773bda4c",
   "metadata": {
    "ExecuteTime": {
     "end_time": "2022-05-24T09:16:04.672199Z",
     "start_time": "2022-05-24T09:16:04.635192Z"
    }
   },
   "outputs": [
    {
     "data": {
      "text/plain": [
       "0.9533333333333333"
      ]
     },
     "execution_count": 30,
     "metadata": {},
     "output_type": "execute_result"
    }
   ],
   "source": [
    "np.average(cross_val_score(LogisticRegression(solver='liblinear',multi_class='ovr'), iris.data, iris.target,cv=3)) # train 3 times "
   ]
  },
  {
   "cell_type": "code",
   "execution_count": 27,
   "id": "b4322dcd",
   "metadata": {
    "ExecuteTime": {
     "end_time": "2022-05-24T09:15:40.997203Z",
     "start_time": "2022-05-24T09:15:40.957207Z"
    }
   },
   "outputs": [
    {
     "data": {
      "text/plain": [
       "0.9733333333333333"
      ]
     },
     "execution_count": 27,
     "metadata": {},
     "output_type": "execute_result"
    }
   ],
   "source": [
    "np.average(cross_val_score(SVC(gamma='auto'), iris.data, iris.target,cv=3))"
   ]
  },
  {
   "cell_type": "code",
   "execution_count": 28,
   "id": "041ed6fd",
   "metadata": {
    "ExecuteTime": {
     "end_time": "2022-05-24T09:15:42.040123Z",
     "start_time": "2022-05-24T09:15:41.533917Z"
    }
   },
   "outputs": [
    {
     "data": {
      "text/plain": [
       "0.9666666666666668"
      ]
     },
     "execution_count": 28,
     "metadata": {},
     "output_type": "execute_result"
    }
   ],
   "source": [
    "np.average(cross_val_score(RandomForestClassifier(n_estimators=40), iris.data, iris.target))"
   ]
  },
  {
   "cell_type": "code",
   "execution_count": 29,
   "id": "340473bc",
   "metadata": {
    "ExecuteTime": {
     "end_time": "2022-05-24T09:15:42.232043Z",
     "start_time": "2022-05-24T09:15:42.187036Z"
    }
   },
   "outputs": [
    {
     "data": {
      "text/plain": [
       "0.9666666666666668"
      ]
     },
     "execution_count": 29,
     "metadata": {},
     "output_type": "execute_result"
    }
   ],
   "source": [
    "np.average(cross_val_score(DecisionTreeClassifier(), iris.data, iris.target))"
   ]
  },
  {
   "cell_type": "code",
   "execution_count": null,
   "id": "4fee2a64",
   "metadata": {},
   "outputs": [],
   "source": []
  }
 ],
 "metadata": {
  "kernelspec": {
   "display_name": "Python 3",
   "language": "python",
   "name": "python3"
  },
  "language_info": {
   "codemirror_mode": {
    "name": "ipython",
    "version": 3
   },
   "file_extension": ".py",
   "mimetype": "text/x-python",
   "name": "python",
   "nbconvert_exporter": "python",
   "pygments_lexer": "ipython3",
   "version": "3.8.8"
  },
  "varInspector": {
   "cols": {
    "lenName": 16,
    "lenType": 16,
    "lenVar": 40
   },
   "kernels_config": {
    "python": {
     "delete_cmd_postfix": "",
     "delete_cmd_prefix": "del ",
     "library": "var_list.py",
     "varRefreshCmd": "print(var_dic_list())"
    },
    "r": {
     "delete_cmd_postfix": ") ",
     "delete_cmd_prefix": "rm(",
     "library": "var_list.r",
     "varRefreshCmd": "cat(var_dic_list()) "
    }
   },
   "types_to_exclude": [
    "module",
    "function",
    "builtin_function_or_method",
    "instance",
    "_Feature"
   ],
   "window_display": false
  }
 },
 "nbformat": 4,
 "nbformat_minor": 5
}
